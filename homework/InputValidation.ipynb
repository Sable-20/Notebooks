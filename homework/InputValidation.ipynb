{
  "nbformat": 4,
  "nbformat_minor": 0,
  "metadata": {
    "colab": {
      "provenance": [],
      "authorship_tag": "ABX9TyP0fIGb5EtgxzU1sPw0mrGW",
      "include_colab_link": true
    },
    "kernelspec": {
      "name": "python3",
      "display_name": "Python 3"
    },
    "language_info": {
      "name": "python"
    }
  },
  "cells": [
    {
      "cell_type": "markdown",
      "metadata": {
        "id": "view-in-github",
        "colab_type": "text"
      },
      "source": [
        "<a href=\"https://colab.research.google.com/github/Sable-20/Notebooks/blob/cs1210/homework/InputValidation.ipynb\" target=\"_parent\"><img src=\"https://colab.research.google.com/assets/colab-badge.svg\" alt=\"Open In Colab\"/></a>"
      ]
    },
    {
      "cell_type": "markdown",
      "source": [
        "# input validation"
      ],
      "metadata": {
        "id": "fkRoIrW28hEw"
      }
    },
    {
      "cell_type": "code",
      "source": [
        "# setup\n",
        "G = 6.674380 * 10 ** -11"
      ],
      "metadata": {
        "id": "zYZbPzPl8kp4"
      },
      "execution_count": 1,
      "outputs": []
    },
    {
      "cell_type": "code",
      "source": [
        "def calc_force(m1, m2, r):\n",
        "    return G * (m1 * m2) / (r ** 2)"
      ],
      "metadata": {
        "id": "u2KVgD138-X4"
      },
      "execution_count": 2,
      "outputs": []
    },
    {
      "cell_type": "code",
      "source": [
        "while True:\n",
        "  try:\n",
        "    m_01 = input(\"enter m1: \")\n",
        "    m_01 = float(m_01)\n",
        "    assert m_01 > 0\n",
        "    break\n",
        "  except ValueError:\n",
        "    print(\"cannot be converted to a float\")\n",
        "  except AssertionError:\n",
        "    print(\"must be greater than 0\")\n",
        "\n",
        "while True:\n",
        "  try:\n",
        "    m_02 = input(\"enter m2: \")\n",
        "    m_02 = float(m_02)\n",
        "    assert m_02 > 0\n",
        "    break\n",
        "  except ValueError:\n",
        "    print(\"cannot be converted to a float\")\n",
        "  except AssertionError:\n",
        "    print(\"must be greater than 0\")\n",
        "while True:\n",
        "  try:\n",
        "    d = input(\"enter distance between two: \")\n",
        "    d = float(d)\n",
        "    assert d > 0\n",
        "    break\n",
        "  except ValueError:\n",
        "    print(\"cannot be converted to a float\")\n",
        "  except AssertionError:\n",
        "    print(\"must be greater than 0\")"
      ],
      "metadata": {
        "colab": {
          "base_uri": "https://localhost:8080/"
        },
        "id": "fLiZiyRf9H6Z",
        "outputId": "3ea5aa44-9eb7-4efa-d757-5b0c2b9ea6fc"
      },
      "execution_count": 30,
      "outputs": [
        {
          "name": "stdout",
          "output_type": "stream",
          "text": [
            "enter m1: 1000000\n",
            "enter m2: 30000000\n",
            "enter distance between two: 5\n"
          ]
        }
      ]
    },
    {
      "cell_type": "code",
      "source": [
        "force = calc_force(m_01, m_02, d)\n",
        "print(f\"the force is {force:,.4f} N\")"
      ],
      "metadata": {
        "colab": {
          "base_uri": "https://localhost:8080/"
        },
        "id": "BopeylJSB1RT",
        "outputId": "74755541-584d-471c-ffb4-582556eeafe4"
      },
      "execution_count": 31,
      "outputs": [
        {
          "output_type": "stream",
          "name": "stdout",
          "text": [
            "the force is 80.0926 N\n"
          ]
        }
      ]
    }
  ]
}